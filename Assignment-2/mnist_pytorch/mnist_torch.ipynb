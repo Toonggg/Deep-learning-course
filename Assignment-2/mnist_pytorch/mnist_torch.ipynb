{
 "cells": [
  {
   "cell_type": "code",
   "execution_count": 360,
   "metadata": {},
   "outputs": [],
   "source": [
    "import torch\n",
    "import torch.nn as nn \n",
    "import torch.optim as optim \n",
    "import torch.nn.functional as F\n",
    "\n",
    "from torch.utils.data import TensorDataset\n",
    "from torch.utils.data import DataLoader\n",
    "\n",
    "import numpy as np \n",
    "from matplotlib import pyplot as plt \n",
    "\n",
    "from load_mnist import load_mnist "
   ]
  },
  {
   "cell_type": "code",
   "execution_count": null,
   "metadata": {},
   "outputs": [],
   "source": [
    "# Loading training and testing data\n",
    "xtrain, ytrain, xtest, ytest = load_mnist() "
   ]
  },
  {
   "cell_type": "code",
   "execution_count": 361,
   "metadata": {},
   "outputs": [],
   "source": [
    "# Get dimensions of training and testing data\n",
    "M = ytrain.shape[1] \n",
    "p = xtrain.shape[1] \n",
    "\n",
    "ntrain = xtrain.shape[0] \n",
    "ntest = xtest.shape[0] "
   ]
  },
  {
   "cell_type": "code",
   "execution_count": 363,
   "metadata": {},
   "outputs": [],
   "source": [
    "# Converting training and testing data to torch tensors \n",
    "xtra_torch = torch.tensor(xtrain).float()\n",
    "ytra_torch = torch.tensor(ytrain).float()\n",
    "xtes_torch = torch.tensor(xtest).float()\n",
    "ytes_torch = torch.tensor(ytest).float()\n",
    "\n",
    "# Converting our flat vectors to images for the CNNs\n",
    "xtra_conv = torch.tensor(xtrain).reshape(ntrain, 28, 28).float().unsqueeze(1)\n",
    "ytra_conv = torch.tensor(ytrain).float()\n",
    "xtes_conv = torch.tensor(xtest).reshape(ntest, 28, 28).float().unsqueeze(1)\n",
    "ytes_conv = torch.tensor(ytest).float() "
   ]
  },
  {
   "cell_type": "code",
   "execution_count": 364,
   "metadata": {},
   "outputs": [
    {
     "name": "stdout",
     "output_type": "stream",
     "text": [
      "Device: cuda\n"
     ]
    }
   ],
   "source": [
    "# Check if CUDA is available\n",
    "device = torch.device(\"cuda\") if torch.cuda.is_available() else torch.device(\"cpu\")\n",
    "print(\"Device:\", device) "
   ]
  },
  {
   "cell_type": "code",
   "execution_count": 497,
   "metadata": {},
   "outputs": [],
   "source": [
    "# 2-layer network \n",
    "# input (784) > hidden layer (100) + ReLU > softmax output (10)\n",
    "# 4-layer network \n",
    "# input (784) > hidden layer (50) + ReLU > hidden layer (50) + ReLU > hidden layer (50) + ReLU > softmax output (10) \n",
    "# 1500 batch-size, 50 epochs, learning rate 0.8"
   ]
  },
  {
   "cell_type": "code",
   "execution_count": 535,
   "metadata": {},
   "outputs": [],
   "source": [
    "# FCN\n",
    "num_batch = 1500 \n",
    "training_data = TensorDataset(xtra_torch.to(device), ytra_torch.to(device)) \n",
    "train_dat_fcn = DataLoader(training_data, shuffle = True, batch_size = num_batch) \n",
    "\n",
    "xte = xtes_torch.to(device) \n",
    "yte = ytes_torch.to(device) \n",
    "\n",
    "# CNN\n",
    "train_dat_im = TensorDataset(xtra_conv.to(device), ytra_conv.to(device))\n",
    "train_dat_cnn = DataLoader(train_dat_im, shuffle = True, batch_size = num_batch)\n",
    "\n",
    "xte_im = xtes_conv.to(device) \n",
    "yte_im = ytes_conv.to(device) "
   ]
  },
  {
   "cell_type": "code",
   "execution_count": 542,
   "metadata": {},
   "outputs": [
    {
     "data": {
      "text/plain": [
       "Sequential(\n",
       "  (0): Conv2d(1, 8, kernel_size=(3, 3), stride=(1, 1), padding=(1, 1))\n",
       "  (1): ReLU()\n",
       "  (2): MaxPool2d(kernel_size=2, stride=2, padding=0, dilation=1, ceil_mode=False)\n",
       "  (3): Conv2d(8, 16, kernel_size=(3, 3), stride=(1, 1), padding=(1, 1))\n",
       "  (4): ReLU()\n",
       "  (5): MaxPool2d(kernel_size=2, stride=2, padding=0, dilation=1, ceil_mode=False)\n",
       "  (6): Conv2d(16, 32, kernel_size=(3, 3), stride=(1, 1), padding=(1, 1))\n",
       "  (7): ReLU()\n",
       "  (8): Flatten(start_dim=1, end_dim=-1)\n",
       "  (9): Linear(in_features=1568, out_features=10, bias=True)\n",
       ")"
      ]
     },
     "execution_count": 542,
     "metadata": {},
     "output_type": "execute_result"
    }
   ],
   "source": [
    "# 2-layer network \n",
    "model_2L = nn.Sequential(nn.Linear(p, 100), nn.ReLU(), nn.Linear(100, M)) # use default weight initialization\n",
    "\n",
    "# 4-layer network \n",
    "model_4L = nn.Sequential(nn.Linear(p, 256), nn.ReLU(), nn.Linear(256, 128), nn.ReLU(), nn.Linear(128, 64), nn.ReLU(), nn.Linear(64, M)) \n",
    "\n",
    "# Convolutional network \n",
    "conv_mod = nn.Sequential(nn.Conv2d(in_channels = 1, out_channels = 8, kernel_size = (3,3), stride = 1, padding = 1), nn.ReLU(), nn.MaxPool2d(kernel_size = 2, stride = 2), \n",
    "                          nn.Conv2d(in_channels = 8, out_channels = 16, kernel_size = (3,3), stride = 1, padding = 1), nn.ReLU(), nn.MaxPool2d(kernel_size = 2, stride = 2), \n",
    "                        nn.Conv2d(in_channels = 16, out_channels = 32, kernel_size = (3,3), stride = 1, padding = 1), nn.ReLU(), nn.Flatten(), nn.Linear(32 * 7 * 7, M)) \n",
    "\n",
    "conv_swap = nn.Sequential(nn.Conv2d(in_channels = 1, out_channels = 8, kernel_size = (3,3), stride = 1, padding = 1), nn.MaxPool2d(kernel_size = 2, stride = 2), nn.ReLU(),\n",
    "                          nn.Conv2d(in_channels = 8, out_channels = 16, kernel_size = (3,3), stride = 1, padding = 1), nn.MaxPool2d(kernel_size = 2, stride = 2), nn.ReLU(), \n",
    "                        nn.Conv2d(in_channels = 16, out_channels = 32, kernel_size = (3,3), stride = 1, padding = 1), nn.ReLU(), nn.Flatten(), nn.Linear(32 * 7 * 7, M)) \n",
    "\n",
    "conv_swap_htan = nn.Sequential(nn.Conv2d(in_channels = 1, out_channels = 8, kernel_size = (3,3), stride = 1, padding = 1), nn.MaxPool2d(kernel_size = 2, stride = 2), nn.Tanh(),\n",
    "                          nn.Conv2d(in_channels = 8, out_channels = 16, kernel_size = (3,3), stride = 1, padding = 1), nn.MaxPool2d(kernel_size = 2, stride = 2), nn.Tanh(), \n",
    "                        nn.Conv2d(in_channels = 16, out_channels = 32, kernel_size = (3,3), stride = 1, padding = 1), nn.Tanh(), nn.Flatten(), nn.Linear(32 * 7 * 7, M))\n",
    "\n",
    "# Selecting model \n",
    "mod = conv_mod  \n",
    "\n",
    "# Resetting model when we switch architectures \n",
    "for layer in mod.children():\n",
    "   if hasattr(layer, 'reset_parameters'):\n",
    "       layer.reset_parameters() \n",
    "\n",
    "# Moving model to GPU \n",
    "mod.to(device) "
   ]
  },
  {
   "cell_type": "code",
   "execution_count": 543,
   "metadata": {},
   "outputs": [],
   "source": [
    "# Check dimensions through network \n",
    "check_dims = False \n",
    "if check_dims == True:\n",
    "    X = torch.rand(size=(10, 1, 28, 28)).to(device) \n",
    "    for layer in mod: \n",
    "        X = layer(X) \n",
    "        print(layer.__class__.__name__, 'output shape:\\t', X.shape)"
   ]
  },
  {
   "cell_type": "code",
   "execution_count": 544,
   "metadata": {},
   "outputs": [],
   "source": [
    "# Loss function \n",
    "loss = F.cross_entropy \n",
    "it = 0 \n",
    "loss_train , acc_train = [], [] \n",
    "loss_test, acc_test = [], [] \n",
    "l_rate = 0.01\n",
    "\n",
    "# Vanilla SGD optimizer \n",
    "sgd_opt = optim.SGD(mod.parameters(), lr = l_rate) \n",
    "\n",
    "# Adam optimizer \n",
    "adam_opt = optim.Adam(mod.parameters(), lr = 0.001 , betas = (0.9, 0.999), eps = 1e-08, weight_decay = 0, amsgrad = False) \n",
    "\n",
    "# Exercise 1.5 - choosing three different optimizers \n",
    "# Adadelta optimizer\n",
    "adad_opt = optim.Adadelta(mod.parameters(), lr = 1.0, rho = 0.9, eps = 1e-06, weight_decay = 0)\n",
    " \n",
    "# Adagrad optimizer\n",
    "adag_opt = optim.Adagrad(mod.parameters(), lr = 0.01, lr_decay = 0, weight_decay = 0, initial_accumulator_value = 0, eps = 1e-10) \n",
    "\n",
    "# Adamax optimizer\n",
    "adamax_opt = optim.Adamax(mod.parameters(), lr = 0.002, betas = (0.9, 0.999), eps = 1e-08, weight_decay = 0) \n",
    "\n",
    "# ASGD optimizer\n",
    "asgd_opt = optim.ASGD(mod.parameters(), lr = 0.01, lambd = 0.0001, alpha = 0.75, t0 = 1000000.0, weight_decay = 0) \n",
    "\n",
    "# RMSprop optimizer \n",
    "rmsp_opt = optim.RMSprop(mod.parameters(), lr = 0.01, alpha = 0.99, eps = 1e-08, weight_decay = 0, momentum = 0, centered = False) "
   ]
  },
  {
   "cell_type": "code",
   "execution_count": 545,
   "metadata": {},
   "outputs": [],
   "source": [
    "# Selecting optimizer\n",
    "optr = sgd_opt   \n",
    "is_fcn = False\n",
    "\n",
    "if is_fcn == True:\n",
    "    training_dat = train_dat_fcn \n",
    "    xt = xte\n",
    "    yt = yte \n",
    "else:\n",
    "    training_dat = train_dat_cnn \n",
    "    xt = xte_im \n",
    "    yt = yte_im "
   ]
  },
  {
   "cell_type": "code",
   "execution_count": 546,
   "metadata": {},
   "outputs": [
    {
     "name": "stdout",
     "output_type": "stream",
     "text": [
      "Epoch 1/50\n",
      "Epoch 2/50\n",
      "Epoch 3/50\n",
      "Epoch 4/50\n",
      "Epoch 5/50\n",
      "Epoch 6/50\n",
      "Epoch 7/50\n",
      "Epoch 8/50\n",
      "Epoch 9/50\n",
      "Epoch 10/50\n",
      "Epoch 11/50\n",
      "Epoch 12/50\n",
      "Epoch 13/50\n",
      "Epoch 14/50\n",
      "Epoch 15/50\n",
      "Epoch 16/50\n",
      "Epoch 17/50\n",
      "Epoch 18/50\n",
      "Epoch 19/50\n",
      "Epoch 20/50\n",
      "Epoch 21/50\n",
      "Epoch 22/50\n",
      "Epoch 23/50\n",
      "Epoch 24/50\n",
      "Epoch 25/50\n",
      "Epoch 26/50\n",
      "Epoch 27/50\n",
      "Epoch 28/50\n",
      "Epoch 29/50\n",
      "Epoch 30/50\n",
      "Epoch 31/50\n",
      "Epoch 32/50\n",
      "Epoch 33/50\n",
      "Epoch 34/50\n",
      "Epoch 35/50\n",
      "Epoch 36/50\n",
      "Epoch 37/50\n",
      "Epoch 38/50\n",
      "Epoch 39/50\n",
      "Epoch 40/50\n",
      "Epoch 41/50\n",
      "Epoch 42/50\n",
      "Epoch 43/50\n",
      "Epoch 44/50\n",
      "Epoch 45/50\n",
      "Epoch 46/50\n",
      "Epoch 47/50\n",
      "Epoch 48/50\n",
      "Epoch 49/50\n",
      "Epoch 50/50\n"
     ]
    }
   ],
   "source": [
    "# Optimization loop\n",
    "num_epochs = 50\n",
    "for epoch in range(num_epochs): \n",
    "    mod.train() \n",
    "    for xbatch, ybatch in training_dat: \n",
    "        prediction = mod(xbatch) \n",
    "        pred = torch.argmax(prediction, dim = 1) \n",
    "        \n",
    "        true_lab = torch.argmax(ybatch, dim = 1) \n",
    "        \n",
    "        ce_loss = loss(prediction, true_lab) \n",
    "        \n",
    "        acc_train.append(100 * (1/num_batch) * torch.sum(pred == true_lab, dim = 0).item()) \n",
    "\n",
    "        loss_train.append(ce_loss.item()) \n",
    "        \n",
    "        ce_loss.backward() \n",
    "        optr.step() \n",
    "        optr.zero_grad() \n",
    "        \n",
    "        mod.eval() \n",
    "        with torch.no_grad():\n",
    "            ytrue_lab = torch.argmax(yt, dim = 1)\n",
    "            prediction_test = mod(xt)\n",
    "            pred_test = torch.argmax(prediction_test, dim = 1)\n",
    "            \n",
    "            ce_test = loss(prediction_test, ytrue_lab) \n",
    "            loss_test.append(ce_test.item()) \n",
    "            acc_test.append(100 * (1/ntest) * torch.sum(pred_test == ytrue_lab, dim = 0).item()) \n",
    "        \n",
    "        it += 1 \n",
    "    print(\"Epoch %s/%s\" % (epoch + 1, num_epochs)) "
   ]
  },
  {
   "cell_type": "code",
   "execution_count": 541,
   "metadata": {},
   "outputs": [
    {
     "name": "stdout",
     "output_type": "stream",
     "text": [
      "Final training loss: 0.021325355395674706.\n",
      "Final testing loss: 0.03416896238923073.\n",
      "\n",
      "Final training accuracy: 99.33333333333333%.\n",
      "Final testing accuracy: 98.86%.\n"
     ]
    },
    {
     "data": {
      "image/png": "[encoded data removed]",
      "text/plain": [
       "<Figure size 504x360 with 1 Axes>"
      ]
     },
     "metadata": {
      "needs_background": "light"
     },
     "output_type": "display_data"
    },
    {
     "data": {
      "image/png": "[encoded data removed]",
      "text/plain": [
       "<Figure size 504x360 with 1 Axes>"
      ]
     },
     "metadata": {
      "needs_background": "light"
     },
     "output_type": "display_data"
    }
   ],
   "source": [
    "plt.figure(1, figsize = (7, 5)) \n",
    "loss_tra, = plt.plot(loss_train, 'r') \n",
    "loss_tes, = plt.plot(loss_test, 'b') \n",
    "plt.title(\"Training and testing loss\")\n",
    "plt.xlabel(\"Iteration\")\n",
    "plt.ylabel(\"Loss\")\n",
    "plt.legend([loss_tra, loss_tes], ['Train loss', 'Test loss'])\n",
    "plt.annotate(\"Final train loss: %s\" % (loss_train[-1]) ,xycoords = 'figure fraction', xy = (0.2,0.5))\n",
    "plt.annotate(\"Final test loss: %s\" % (loss_test[-1]), xycoords = 'figure fraction', xy = (0.2,0.55))\n",
    "print(\"Final training loss: %s.\" % loss_train[-1]) \n",
    "print(\"Final testing loss: %s.\" % loss_test[-1]) \n",
    "plt.savefig(\"train_debug\", dpi = 500) \n",
    "\n",
    "plt.figure(2, figsize = (7, 5)) \n",
    "acc_tra, = plt.plot(acc_train, 'r') \n",
    "acc_tes, = plt.plot(acc_test, 'b') \n",
    "plt.title(\"Training and testing accuracy\") \n",
    "plt.xlabel(\"Iteration\") \n",
    "plt.ylabel(\"Accuracy in %\") \n",
    "plt.legend([acc_tra, acc_tes], ['Train accuracy', 'Test accuracy'])\n",
    "plt.annotate(\"Final train accuracy: %s\" % (acc_train[-1]) ,xycoords = 'figure fraction', xy = (0.2,0.5))\n",
    "plt.annotate(\"Final test accuracy: %s\" % (acc_test[-1]), xycoords = 'figure fraction', xy = (0.2,0.55))\n",
    "print()\n",
    "print(\"Final training accuracy: %s%%.\" % acc_train[-1])\n",
    "print(\"Final testing accuracy: %s%%.\" % acc_test[-1])\n",
    "plt.savefig(\"test_debug\", dpi = 500) "
   ]
  },
  {
   "cell_type": "code",
   "execution_count": null,
   "metadata": {},
   "outputs": [],
   "source": []
  }
 ],
 "metadata": {
  "kernelspec": {
   "display_name": "Python [conda env:torch_cuda]",
   "language": "python",
   "name": "conda-env-torch_cuda-py"
  },
  "language_info": {
   "codemirror_mode": {
    "name": "ipython",
    "version": 3
   },
   "file_extension": ".py",
   "mimetype": "text/x-python",
   "name": "python",
   "nbconvert_exporter": "python",
   "pygments_lexer": "ipython3",
   "version": "3.8.8"
  },
  "metadata": {
   "interpreter": {
    "hash": "ac2eaa0ea0ebeafcc7822e65e46aa9d4f966f30b695406963e145ea4a91cd4fc"
   }
  }
 },
 "nbformat": 4,
 "nbformat_minor": 2
}
